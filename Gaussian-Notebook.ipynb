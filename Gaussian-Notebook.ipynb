{
 "cells": [
  {
   "cell_type": "markdown",
   "metadata": {},
   "source": [
    "# Building a Gaussian Class\n",
    "\n",
    "In the following notebook I will explain how to build a class that can output useful mathematical information.\n",
    "I will first break the problem into parts and explain the mathematics behind each function.\n",
    "Than I will put everything together to create a class.  \n",
    "\n",
    "Provided is an outline of what will be covered:\n",
    "- Mean\n",
    "- Standard deviation\n",
    "- Histograms\n",
    "- Probability density function"
   ]
  },
  {
   "cell_type": "markdown",
   "metadata": {},
   "source": [
    "### Dependecies"
   ]
  },
  {
   "cell_type": "code",
   "execution_count": 1,
   "metadata": {},
   "outputs": [],
   "source": [
    "import math\n",
    "import matplotlib.pyplot as plt"
   ]
  },
  {
   "cell_type": "markdown",
   "metadata": {},
   "source": [
    "### The Mean\n",
    "Explain the mean"
   ]
  },
  {
   "cell_type": "markdown",
   "metadata": {},
   "source": [
    "### The Standard Deviation\n",
    "Explain the standard deviation"
   ]
  },
  {
   "cell_type": "markdown",
   "metadata": {},
   "source": [
    "### Histograms\n",
    "Explain histograms"
   ]
  },
  {
   "cell_type": "markdown",
   "metadata": {},
   "source": [
    "### Probabilty Density Function\n",
    "Explain the probability density function"
   ]
  },
  {
   "cell_type": "markdown",
   "metadata": {},
   "source": [
    "### Putting it all together "
   ]
  },
  {
   "cell_type": "code",
   "execution_count": 2,
   "metadata": {},
   "outputs": [],
   "source": [
    "class Gaussian():\n",
    "    '''\n",
    "    Gaussian distribution class for calculating and\n",
    "    visualizing a Gaussian distributions\n",
    "    \n",
    "    -----------------------------------------------\n",
    "    Attributes:\n",
    "        mean (float) - returns the mean value of the distribution\n",
    "        stdev (float) - returns the standard deviation of the distribution\n",
    "        data_list (list of floats) - returns a list of floats extracted from the data file\n",
    "    '''\n",
    "    def __init__(self, mu = 0, sigma = 1):\n",
    "        \n",
    "        self.mean = mu\n",
    "        self.stdev = sigma\n",
    "        self.data = []\n",
    "        \n",
    "    def calculate_mean(self):\n",
    "        \n",
    "        '''\n",
    "        Function to calculate the mean of the data set.\n",
    "        \n",
    "        Returns:\n",
    "            float - Mean of the data set\n",
    "        '''\n",
    "        \n",
    "        avg = 1.0 * sum(self.data) / len(self.data)\n",
    "        \n",
    "        self.mean = avg\n",
    "        \n",
    "        return self.mean\n",
    "    \n",
    "    def calculate_stdev(self, sample=True):\n",
    "        \n",
    "        '''\n",
    "        Function to calculate the standard deviation of the data set.\n",
    "        \n",
    "        Args:\n",
    "            sample(bool) - weather the data represents a sample or population\n",
    "            \n",
    "        Returns:\n",
    "            float - standard deviation of the data set\n",
    "        \n",
    "        '''\n",
    "        if sample:\n",
    "            n = len(self.data) - 1\n",
    "        else:\n",
    "            n = len(self.data)\n",
    "            \n",
    "        mean = self.mean\n",
    "        \n",
    "        sigma = 0\n",
    "        \n",
    "        for number in self.data:\n",
    "            sigma += (number - mean)**2\n",
    "            \n",
    "        sigma = math.sqrt(sigma / n)\n",
    "        \n",
    "        self.stdev = sigma\n",
    "        \n",
    "        return self.stdev\n",
    "    \n",
    "    def read_data_file(self, file_name, sample=True):\n",
    "        '''\n",
    "        Function to read in data from a txt file. The txt file should have one\n",
    "        number (float) per line. The numbers are stored in the data attribute.\n",
    "        After reading in the file, the mean and standard deviation are calculated.\n",
    "        \n",
    "        Args:\n",
    "            file_name(string) - name of a file to read from\n",
    "            \n",
    "        Returns:\n",
    "            None\n",
    "        \n",
    "        '''\n",
    "        \n",
    "        with open(file_name) as file:\n",
    "            data_list = []\n",
    "            line = file.readline()\n",
    "            while line:\n",
    "                data_list.append(int(line))\n",
    "                line = file.readline()\n",
    "        file.close()\n",
    "        \n",
    "        self.data = data_list\n",
    "        self.mean = self.calculate_mean()\n",
    "        self.stdev = self.calculate_stdev()\n",
    "        \n",
    "    def plot_histogram(self):\n",
    "        \n",
    "        '''\n",
    "        Function to output a histogram of the instance variable data using\n",
    "        matplotlib pyplot library.\n",
    "        \n",
    "        Args:\n",
    "            None\n",
    "            \n",
    "        Returns:\n",
    "            None\n",
    "        '''\n",
    "        plt.hist(self.data)\n",
    "        plt.title(\"Histogram of Data\")\n",
    "        plt.xlabel(\"Data\")\n",
    "        plt.ylabel(\"Counts\")\n",
    "        \n",
    "    def pdf(self, x):\n",
    "        '''\n",
    "        Probability density function calculator for the gaussian distribution.\n",
    "        \n",
    "        Args:\n",
    "            x(float) - Point for calculating the probability density function\n",
    "            \n",
    "        Returns:\n",
    "            float - Probability density function output\n",
    "        \n",
    "        '''\n",
    "        \n",
    "        return (1.0 / (self.stdev * math.sqrt(2*math.pi))) * math.exp(-0.5 * ((x - self.mean) / self.stdev)**2)\n",
    "        "
   ]
  }
 ],
 "metadata": {
  "kernelspec": {
   "display_name": "Python 3",
   "language": "python",
   "name": "python3"
  },
  "language_info": {
   "codemirror_mode": {
    "name": "ipython",
    "version": 3
   },
   "file_extension": ".py",
   "mimetype": "text/x-python",
   "name": "python",
   "nbconvert_exporter": "python",
   "pygments_lexer": "ipython3",
   "version": "3.7.3"
  }
 },
 "nbformat": 4,
 "nbformat_minor": 2
}
